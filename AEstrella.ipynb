{
  "nbformat": 4,
  "nbformat_minor": 0,
  "metadata": {
    "colab": {
      "provenance": []
    },
    "kernelspec": {
      "name": "python3",
      "display_name": "Python 3"
    },
    "language_info": {
      "name": "python"
    }
  },
  "cells": [
    {
      "cell_type": "code",
      "execution_count": 34,
      "metadata": {
        "colab": {
          "base_uri": "https://localhost:8080/"
        },
        "id": "ad1ikHIdJtZK",
        "outputId": "69b84041-1324-4f62-ed05-6a0998d083f9"
      },
      "outputs": [
        {
          "output_type": "stream",
          "name": "stdout",
          "text": [
            "El camino más corto de A a D es: ['A', 'B', 'D']\n",
            "Costo total del camino: 8\n"
          ]
        }
      ],
      "source": [
        "import heapq\n",
        "\n",
        "def a_star(graph, start, goal):\n",
        "    open_list = []      # Lista de nodos por visitar\n",
        "    heapq.heappush(open_list, (0, start))  # (costo acumulado, nodo)\n",
        "    came_from = {}      # Diccionario para reconstruir el camino\n",
        "    cost_so_far = {}    # Costo acumulado desde el inicio hasta cada nodo\n",
        "    came_from[start] = None\n",
        "    cost_so_far[start] = 0\n",
        "\n",
        "    while open_list:\n",
        "        current_cost, current_node = heapq.heappop(open_list)\n",
        "\n",
        "        if current_node == goal:\n",
        "            break\n",
        "\n",
        "        for next_node, weight in graph[current_node].items():\n",
        "            new_cost = cost_so_far[current_node] + weight\n",
        "            if next_node not in cost_so_far or new_cost < cost_so_far[next_node]:\n",
        "                cost_so_far[next_node] = new_cost\n",
        "                priority = new_cost + heuristic(next_node, goal)\n",
        "                heapq.heappush(open_list, (priority, next_node))\n",
        "                came_from[next_node] = current_node\n",
        "\n",
        "    # Reconstruir el camino desde el objetivo hasta el inicio\n",
        "    path = []\n",
        "    node = goal\n",
        "    while node is not None:\n",
        "        path.append(node)\n",
        "        node = came_from[node]\n",
        "\n",
        "    path.reverse()  # Invertir el camino para que vaya desde el inicio hasta el objetivo\n",
        "    total_cost = cost_so_far[goal]\n",
        "\n",
        "    return path, total_cost\n",
        "\n",
        "def heuristic(node, goal):\n",
        "    # Heurística: 1 si los nodos son diferentes, 0 si son iguales (para nodos representados por letras)\n",
        "    return 1 if node != goal else 0\n",
        "\n",
        "# Ejemplo de uso\n",
        "graph = {\n",
        "    'A': {'B': 5, 'C': 10},\n",
        "    'B': {'D': 3},\n",
        "    'C': {'D': 8},\n",
        "    'D': {}\n",
        "}\n",
        "\n",
        "start_node = 'A'\n",
        "goal_node = 'D'\n",
        "\n",
        "path, total_cost = a_star(graph, start_node, goal_node)\n",
        "\n",
        "if path:\n",
        "    print(\"El camino más corto de {} a {} es: {}\".format(start_node, goal_node, path))\n",
        "    print(\"Costo total del camino: {}\".format(total_cost))\n",
        "else:\n",
        "    print(\"No se encontró un camino válido de {} a {}.\".format(start_node, goal_node))\n"
      ]
    }
  ]
}